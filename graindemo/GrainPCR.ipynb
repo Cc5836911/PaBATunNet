{
 "cells": [
  {
   "cell_type": "code",
   "id": "d3461833",
   "metadata": {
    "pycharm": {
     "name": "#%%\n"
    }
   },
   "source": [
    "## grain casein\n",
    "\n",
    "import FunctionGrain as FG\n",
    "import CommonFunction as CF\n",
    "import pandas as pd\n",
    "from sklearn.decomposition import PCA\n",
    "from sklearn.linear_model import LinearRegression\n",
    "\n",
    "\n",
    "for i in range(1,118):\n",
    "    a = []\n",
    "    test_data,test_lable,train_data,train_lable = FG.getOdateGrainCasein()\n",
    "    pca = PCA(n_components=i)\n",
    "    pca.fit(train_data,test_data)\n",
    "    train_data = pca.transform(train_data)\n",
    "    test_data =pca.transform(test_data)\n",
    "    lr = LinearRegression()\n",
    "    lr.fit(train_data,train_lable)\n",
    "    res_train = lr.predict(train_data)\n",
    "    res_test = lr.predict(test_data)\n",
    "    rmsec = CF.calculate_RMSE(res_train,train_lable) ## 训练集上的RMSE\n",
    "    rmsep = CF.calculate_RMSE(res_test,test_lable)  ## 测试集上的RMSE\n",
    "    r_2_t = CF.calculate_R21(res_train,train_lable)## 训练集上的R_2\n",
    "    r_2_p = CF.calculate_R21(res_test,test_lable)## 测试集上得R_2\n",
    "    a.append(i)\n",
    "    a.append(rmsec)\n",
    "    a.append(r_2_t)\n",
    "    a.append(rmsep)\n",
    "    a.append(r_2_p)\n",
    "    data = pd.DataFrame([a])\n",
    "    data.to_csv('./pcrGrainCasein.csv',mode='a',index=False,header=False)\n"
   ],
   "execution_count": 2,
   "outputs": [
    {
     "ename": "ValueError",
     "evalue": "n_components=118 must be between 0 and min(n_samples, n_features)=117 with svd_solver='full'",
     "output_type": "error",
     "traceback": [
      "\u001B[1;31m---------------------------------------------------------------------------\u001B[0m",
      "\u001B[1;31mValueError\u001B[0m                                Traceback (most recent call last)",
      "Cell \u001B[1;32mIn [2], line 14\u001B[0m\n\u001B[0;32m     12\u001B[0m test_data,test_lable,train_data,train_lable \u001B[38;5;241m=\u001B[39m FG\u001B[38;5;241m.\u001B[39mgetOdateGrainCasein()\n\u001B[0;32m     13\u001B[0m pca \u001B[38;5;241m=\u001B[39m PCA(n_components\u001B[38;5;241m=\u001B[39mi)\n\u001B[1;32m---> 14\u001B[0m \u001B[43mpca\u001B[49m\u001B[38;5;241;43m.\u001B[39;49m\u001B[43mfit\u001B[49m\u001B[43m(\u001B[49m\u001B[43mtrain_data\u001B[49m\u001B[43m,\u001B[49m\u001B[43mtest_data\u001B[49m\u001B[43m)\u001B[49m\n\u001B[0;32m     15\u001B[0m train_data \u001B[38;5;241m=\u001B[39m pca\u001B[38;5;241m.\u001B[39mtransform(train_data)\n\u001B[0;32m     16\u001B[0m test_data \u001B[38;5;241m=\u001B[39mpca\u001B[38;5;241m.\u001B[39mtransform(test_data)\n",
      "File \u001B[1;32mE:\\PythonProject\\django\\djangoProject\\project\\lib\\site-packages\\sklearn\\decomposition\\_pca.py:408\u001B[0m, in \u001B[0;36mPCA.fit\u001B[1;34m(self, X, y)\u001B[0m\n\u001B[0;32m    385\u001B[0m \u001B[38;5;124;03m\"\"\"Fit the model with X.\u001B[39;00m\n\u001B[0;32m    386\u001B[0m \n\u001B[0;32m    387\u001B[0m \u001B[38;5;124;03mParameters\u001B[39;00m\n\u001B[1;32m   (...)\u001B[0m\n\u001B[0;32m    399\u001B[0m \u001B[38;5;124;03m    Returns the instance itself.\u001B[39;00m\n\u001B[0;32m    400\u001B[0m \u001B[38;5;124;03m\"\"\"\u001B[39;00m\n\u001B[0;32m    401\u001B[0m check_scalar(\n\u001B[0;32m    402\u001B[0m     \u001B[38;5;28mself\u001B[39m\u001B[38;5;241m.\u001B[39mn_oversamples,\n\u001B[0;32m    403\u001B[0m     \u001B[38;5;124m\"\u001B[39m\u001B[38;5;124mn_oversamples\u001B[39m\u001B[38;5;124m\"\u001B[39m,\n\u001B[0;32m    404\u001B[0m     min_val\u001B[38;5;241m=\u001B[39m\u001B[38;5;241m1\u001B[39m,\n\u001B[0;32m    405\u001B[0m     target_type\u001B[38;5;241m=\u001B[39mnumbers\u001B[38;5;241m.\u001B[39mIntegral,\n\u001B[0;32m    406\u001B[0m )\n\u001B[1;32m--> 408\u001B[0m \u001B[38;5;28;43mself\u001B[39;49m\u001B[38;5;241;43m.\u001B[39;49m\u001B[43m_fit\u001B[49m\u001B[43m(\u001B[49m\u001B[43mX\u001B[49m\u001B[43m)\u001B[49m\n\u001B[0;32m    409\u001B[0m \u001B[38;5;28;01mreturn\u001B[39;00m \u001B[38;5;28mself\u001B[39m\n",
      "File \u001B[1;32mE:\\PythonProject\\django\\djangoProject\\project\\lib\\site-packages\\sklearn\\decomposition\\_pca.py:483\u001B[0m, in \u001B[0;36mPCA._fit\u001B[1;34m(self, X)\u001B[0m\n\u001B[0;32m    481\u001B[0m \u001B[38;5;66;03m# Call different fits for either full or truncated SVD\u001B[39;00m\n\u001B[0;32m    482\u001B[0m \u001B[38;5;28;01mif\u001B[39;00m \u001B[38;5;28mself\u001B[39m\u001B[38;5;241m.\u001B[39m_fit_svd_solver \u001B[38;5;241m==\u001B[39m \u001B[38;5;124m\"\u001B[39m\u001B[38;5;124mfull\u001B[39m\u001B[38;5;124m\"\u001B[39m:\n\u001B[1;32m--> 483\u001B[0m     \u001B[38;5;28;01mreturn\u001B[39;00m \u001B[38;5;28;43mself\u001B[39;49m\u001B[38;5;241;43m.\u001B[39;49m\u001B[43m_fit_full\u001B[49m\u001B[43m(\u001B[49m\u001B[43mX\u001B[49m\u001B[43m,\u001B[49m\u001B[43m \u001B[49m\u001B[43mn_components\u001B[49m\u001B[43m)\u001B[49m\n\u001B[0;32m    484\u001B[0m \u001B[38;5;28;01melif\u001B[39;00m \u001B[38;5;28mself\u001B[39m\u001B[38;5;241m.\u001B[39m_fit_svd_solver \u001B[38;5;129;01min\u001B[39;00m [\u001B[38;5;124m\"\u001B[39m\u001B[38;5;124marpack\u001B[39m\u001B[38;5;124m\"\u001B[39m, \u001B[38;5;124m\"\u001B[39m\u001B[38;5;124mrandomized\u001B[39m\u001B[38;5;124m\"\u001B[39m]:\n\u001B[0;32m    485\u001B[0m     \u001B[38;5;28;01mreturn\u001B[39;00m \u001B[38;5;28mself\u001B[39m\u001B[38;5;241m.\u001B[39m_fit_truncated(X, n_components, \u001B[38;5;28mself\u001B[39m\u001B[38;5;241m.\u001B[39m_fit_svd_solver)\n",
      "File \u001B[1;32mE:\\PythonProject\\django\\djangoProject\\project\\lib\\site-packages\\sklearn\\decomposition\\_pca.py:501\u001B[0m, in \u001B[0;36mPCA._fit_full\u001B[1;34m(self, X, n_components)\u001B[0m\n\u001B[0;32m    497\u001B[0m         \u001B[38;5;28;01mraise\u001B[39;00m \u001B[38;5;167;01mValueError\u001B[39;00m(\n\u001B[0;32m    498\u001B[0m             \u001B[38;5;124m\"\u001B[39m\u001B[38;5;124mn_components=\u001B[39m\u001B[38;5;124m'\u001B[39m\u001B[38;5;124mmle\u001B[39m\u001B[38;5;124m'\u001B[39m\u001B[38;5;124m is only supported if n_samples >= n_features\u001B[39m\u001B[38;5;124m\"\u001B[39m\n\u001B[0;32m    499\u001B[0m         )\n\u001B[0;32m    500\u001B[0m \u001B[38;5;28;01melif\u001B[39;00m \u001B[38;5;129;01mnot\u001B[39;00m \u001B[38;5;241m0\u001B[39m \u001B[38;5;241m<\u001B[39m\u001B[38;5;241m=\u001B[39m n_components \u001B[38;5;241m<\u001B[39m\u001B[38;5;241m=\u001B[39m \u001B[38;5;28mmin\u001B[39m(n_samples, n_features):\n\u001B[1;32m--> 501\u001B[0m     \u001B[38;5;28;01mraise\u001B[39;00m \u001B[38;5;167;01mValueError\u001B[39;00m(\n\u001B[0;32m    502\u001B[0m         \u001B[38;5;124m\"\u001B[39m\u001B[38;5;124mn_components=\u001B[39m\u001B[38;5;132;01m%r\u001B[39;00m\u001B[38;5;124m must be between 0 and \u001B[39m\u001B[38;5;124m\"\u001B[39m\n\u001B[0;32m    503\u001B[0m         \u001B[38;5;124m\"\u001B[39m\u001B[38;5;124mmin(n_samples, n_features)=\u001B[39m\u001B[38;5;132;01m%r\u001B[39;00m\u001B[38;5;124m with \u001B[39m\u001B[38;5;124m\"\u001B[39m\n\u001B[0;32m    504\u001B[0m         \u001B[38;5;124m\"\u001B[39m\u001B[38;5;124msvd_solver=\u001B[39m\u001B[38;5;124m'\u001B[39m\u001B[38;5;124mfull\u001B[39m\u001B[38;5;124m'\u001B[39m\u001B[38;5;124m\"\u001B[39m \u001B[38;5;241m%\u001B[39m (n_components, \u001B[38;5;28mmin\u001B[39m(n_samples, n_features))\n\u001B[0;32m    505\u001B[0m     )\n\u001B[0;32m    506\u001B[0m \u001B[38;5;28;01melif\u001B[39;00m n_components \u001B[38;5;241m>\u001B[39m\u001B[38;5;241m=\u001B[39m \u001B[38;5;241m1\u001B[39m:\n\u001B[0;32m    507\u001B[0m     \u001B[38;5;28;01mif\u001B[39;00m \u001B[38;5;129;01mnot\u001B[39;00m \u001B[38;5;28misinstance\u001B[39m(n_components, numbers\u001B[38;5;241m.\u001B[39mIntegral):\n",
      "\u001B[1;31mValueError\u001B[0m: n_components=118 must be between 0 and min(n_samples, n_features)=117 with svd_solver='full'"
     ]
    }
   ]
  }
 ],
 "metadata": {
  "imageInfo": {
   "id": "e1a07296-22a8-4f05-8bc8-e936c8e54100",
   "name": "tensortlow2.1-cuda10.1-cudnn7-ubuntu18.04"
  },
  "kernelspec": {
   "name": "python3",
   "language": "python",
   "display_name": "Python 3 (ipykernel)"
  },
  "language_info": {
   "codemirror_mode": {
    "name": "ipython",
    "version": 3
   },
   "file_extension": ".py",
   "mimetype": "text/x-python",
   "name": "python",
   "nbconvert_exporter": "python",
   "pygments_lexer": "ipython3",
   "version": "3.7.10"
  },
  "shareInfo": {
   "id": "4b5cb755-b74c-4139-98b4-5bd7500c4c99",
   "url": "https://authoring-modelarts-cnnorth4.huaweicloud.com/console/lab?share-url-b64=aHR0cHM6Ly9ub3RlYm9va3NoYXJlLm9icy5jbi1ub3J0aC00Lm15aHVhd2VpY2xvdWQuY29tLzBkNzZmZDA3NDc4MGYyYTUxZjM3YzAwMWI4NjVkYTIwL1BMUy5pcHluYg%3D%3D"
  }
 },
 "nbformat": 4,
 "nbformat_minor": 5
}